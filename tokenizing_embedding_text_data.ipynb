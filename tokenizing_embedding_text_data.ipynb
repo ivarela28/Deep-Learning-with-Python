{
  "nbformat": 4,
  "nbformat_minor": 0,
  "metadata": {
    "colab": {
      "provenance": [],
      "mount_file_id": "1RLdTuZuE4XLvgrLwVSd7bdWoOikFZtD1",
      "authorship_tag": "ABX9TyMOFR9cPBLRhQfhGA7UjopL",
      "include_colab_link": true
    },
    "kernelspec": {
      "name": "python3",
      "display_name": "Python 3"
    },
    "language_info": {
      "name": "python"
    },
    "gpuClass": "standard",
    "accelerator": "GPU"
  },
  "cells": [
    {
      "cell_type": "markdown",
      "metadata": {
        "id": "view-in-github",
        "colab_type": "text"
      },
      "source": [
        "<a href=\"https://colab.research.google.com/github/ivarela28/Deep-Learning-with-Python/blob/master/tokenizing_embedding_text_data.ipynb\" target=\"_parent\"><img src=\"https://colab.research.google.com/assets/colab-badge.svg\" alt=\"Open In Colab\"/></a>"
      ]
    },
    {
      "cell_type": "markdown",
      "source": [
        "#Tokenizing and training word embeddings on IMDB movie reviews"
      ],
      "metadata": {
        "id": "e7K7jIIJYG5k"
      }
    },
    {
      "cell_type": "code",
      "source": [
        "from tensorflow.keras.preprocessing.text import Tokenizer\n",
        "from tensorflow.keras.datasets import imdb\n",
        "from tensorflow.keras import preprocessing\n",
        "from tensorflow.keras.models import Sequential\n",
        "from tensorflow.keras.layers import Flatten, Dense, Embedding"
      ],
      "metadata": {
        "id": "biJktnYabfjK"
      },
      "execution_count": 10,
      "outputs": []
    },
    {
      "cell_type": "markdown",
      "source": [
        "##Example of using Keras Preprocessing for word-level one-hot encoding\n",
        "Convert each word in samples to binary vector where all entries are zero except for ith entry, corresponding to words index in \"word_index\""
      ],
      "metadata": {
        "id": "Uf2o757GaTat"
      }
    },
    {
      "cell_type": "code",
      "source": [
        "samples = ['The cat sat on the mat.', 'The dog ate my homework.']\n",
        "\n",
        "#Only use 1000 most common words\n",
        "tokenizer = Tokenizer(num_words=1000)\n",
        "#Builds word index in tokenizer object\n",
        "tokenizer.fit_on_texts(samples)\n",
        "\n",
        "#print(samples)\n",
        "#Turns strings into lists of integer indices\n",
        "sequences = tokenizer.texts_to_sequences(samples)\n",
        "\n",
        "one_hot_results = tokenizer.texts_to_matrix(samples, mode='binary')\n",
        "\n",
        "#retrieve word index\n",
        "word_index = tokenizer.word_index\n",
        "\n",
        "#Result is 9 unique tokens, since \"the\" is repeated and \"homework\" is not in 1000 most common words\n",
        "print('Found %s unique tokens.' % len(word_index))"
      ],
      "metadata": {
        "id": "F4BtQH6S-7D_",
        "colab": {
          "base_uri": "https://localhost:8080/"
        },
        "outputId": "9d503b1d-9fbf-4197-8d7d-9f75d421ed36"
      },
      "execution_count": 9,
      "outputs": [
        {
          "output_type": "stream",
          "name": "stdout",
          "text": [
            "Found 9 unique tokens.\n"
          ]
        }
      ]
    },
    {
      "cell_type": "markdown",
      "source": [
        "##Using word embeddings\n",
        "Used instead of one-hot encoding, creates dense, low-dimensional vector representations of each word and is learned from data."
      ],
      "metadata": {
        "id": "E-9lZnvrgAti"
      }
    },
    {
      "cell_type": "code",
      "execution_count": 14,
      "metadata": {
        "id": "2ZiC4Ifqgx6T"
      },
      "outputs": [],
      "source": [
        "#vocabulary size\n",
        "max_features = 10000\n",
        "#cuts off samples after this many words\n",
        "maxlen = 20\n",
        "\n",
        "#load data\n",
        "(x_train, y_train), (x_test, y_test) = imdb.load_data(num_words=max_features)\n",
        "\n",
        "#\"pad\" shorter samples with zeroes to normalize all sample lengths.  This is required to feed it into network\n",
        "#result is 2D integer tensor with shape (samples, maxlen)\n",
        "x_train = preprocessing.sequence.pad_sequences(x_train, maxlen=maxlen)\n",
        "x_test = preprocessing.sequence.pad_sequences(x_test, maxlen=maxlen)"
      ]
    },
    {
      "cell_type": "code",
      "source": [
        "#Define network arcitecture\n",
        "model = Sequential()\n",
        "#2D integer tensor\n",
        "model.add(Embedding(max_features, 8, input_length=maxlen))\n",
        "#3D float tensor\n",
        "model.add(Flatten())\n",
        "#2D float tensor\n",
        "model.add(Dense(1, activation='sigmoid'))#Classifier\n",
        "\n",
        "#compile model\n",
        "model.compile(loss='binary_crossentropy',\n",
        "              optimizer='rmsprop',\n",
        "              metrics=['acc'])\n",
        "\n",
        "model.summary()"
      ],
      "metadata": {
        "id": "-PL464-bopif"
      },
      "execution_count": null,
      "outputs": []
    },
    {
      "cell_type": "code",
      "source": [
        "history = model.fit(x_train,\n",
        "                    y_train,\n",
        "                    epochs=10,\n",
        "                    batch_size=32,\n",
        "                    validation_split=0.2)\n",
        "#result is ~75% accuracy.  Pretty good for only 20 words per sample"
      ],
      "metadata": {
        "id": "GMv6ZcwPp13h"
      },
      "execution_count": null,
      "outputs": []
    },
    {
      "cell_type": "markdown",
      "source": [
        "Result is ~75% accuracy.  Pretty good for only 20 words per sample.  However, if there is not a large number of samples to properly train the embedding, the accuracy would suffer.  In that case, you can use pre-trained embeddings"
      ],
      "metadata": {
        "id": "Fb7cwMuGkQ3W"
      }
    },
    {
      "cell_type": "markdown",
      "source": [
        "#Using pre-trained word embeddings"
      ],
      "metadata": {
        "id": "Ri2jfoN-lTZm"
      }
    },
    {
      "cell_type": "markdown",
      "source": [
        "##Load and preprocess data"
      ],
      "metadata": {
        "id": "rApOJ3Bmoipe"
      }
    },
    {
      "cell_type": "code",
      "source": [
        "#Unzip raw IMDB data\n",
        "#Raw IMBD data is used instead of pre-tokenized data available in Keras\n",
        "#**NOTE** both dataset and embeddings must be available in mounted Google Drive\n",
        "from zipfile import ZipFile\n",
        "file_name = '/content/drive/MyDrive/aclImdb.zip'\n",
        "\n",
        "with ZipFile(file_name, 'r') as zip:\n",
        "  zip.extractall()\n",
        "  print('Done')"
      ],
      "metadata": {
        "colab": {
          "base_uri": "https://localhost:8080/"
        },
        "id": "cUxiOgxR9ggP",
        "outputId": "03909223-3124-4271-abd0-479cce9fbf39"
      },
      "execution_count": 18,
      "outputs": [
        {
          "output_type": "stream",
          "name": "stdout",
          "text": [
            "Done\n"
          ]
        }
      ]
    },
    {
      "cell_type": "code",
      "source": [
        "#Unzip Glove word embeddings\n",
        "from zipfile import ZipFile\n",
        "file_name = '/content/drive/MyDrive/glove.6B.zip'\n",
        "\n",
        "with ZipFile(file_name, 'r') as zip:\n",
        "  zip.extractall()\n",
        "  print('Done')"
      ],
      "metadata": {
        "id": "q-HX3FqIWlla"
      },
      "execution_count": null,
      "outputs": []
    },
    {
      "cell_type": "markdown",
      "source": [
        "We must collect the individual training samples into a list of strings called 'texts', one string per sample.  Also, we collect the labels in a list of their own"
      ],
      "metadata": {
        "id": "of0gbd-jppHA"
      }
    },
    {
      "cell_type": "code",
      "source": [
        "\n",
        "import os\n",
        "\n",
        "imdb_dir = '/content/aclImdb'\n",
        "train_dir = os.path.join(imdb_dir, 'train')\n",
        "\n",
        "labels = []\n",
        "texts = []\n",
        "\n",
        "for label_type in ['neg', 'pos']:\n",
        "  dir_name = os.path.join(train_dir, label_type)\n",
        "  for fname in os.listdir(dir_name):\n",
        "    #Checks that file is text file\n",
        "    if fname[-4:] == '.txt':\n",
        "      f = open(os.path.join(dir_name, fname))\n",
        "      #Collect sample as string\n",
        "      texts.append(f.read())\n",
        "      f.close()\n",
        "      #Collect label as 0 for a negative review and 1 for a positive review\n",
        "      if label_type == 'neg':\n",
        "        labels.append(0)\n",
        "      else:\n",
        "        labels.append(1)"
      ],
      "metadata": {
        "id": "k6nevW78AE14"
      },
      "execution_count": 20,
      "outputs": []
    },
    {
      "cell_type": "markdown",
      "source": [
        "Now we can tokenize the raw data.  "
      ],
      "metadata": {
        "id": "vE_Ggjc1p8q-"
      }
    },
    {
      "cell_type": "code",
      "source": [
        "from tensorflow.keras.preprocessing.sequence import pad_sequences\n",
        "import numpy as np\n",
        "\n",
        "#Cut off reviews after 100 words\n",
        "maxlen = 100\n",
        "#train on only 200 samples to simulate small dataset\n",
        "training_samples = 200\n",
        "#Validate on 10000 samples\n",
        "validation_samples = 10000\n",
        "#Considers only top 10000 most common words\n",
        "max_words = 10000\n",
        "\n",
        "tokenizer = Tokenizer(num_words=max_words)\n",
        "tokenizer.fit_on_texts(texts)\n",
        "sequences = tokenizer.texts_to_sequences(texts)\n",
        "word_index = tokenizer.word_index\n",
        "print('Found %s unique tokens.' % len(word_index))\n",
        "\n",
        "data = pad_sequences(sequences, maxlen=maxlen)\n",
        "\n",
        "labels = np.asarray(labels)\n",
        "print('Shape of data tensor: ', data.shape)\n",
        "print('Shape of labels tensor: ', labels.shape)\n",
        "\n",
        "#Shuffle the data before splitting between train and validate, because data is ordered neg then pos\n",
        "indices = np.arange(data.shape[0])\n",
        "np.random.shuffle(indices)\n",
        "data = data[indices]\n",
        "labels = labels[indices]\n",
        "\n",
        "#Split data betwen train and validate\n",
        "x_train = data[:training_samples]\n",
        "y_train = labels[:training_samples]\n",
        "x_val = data[training_samples : training_samples + validation_samples]\n",
        "y_val = labels[training_samples : training_samples + validation_samples]"
      ],
      "metadata": {
        "colab": {
          "base_uri": "https://localhost:8080/"
        },
        "id": "OvVno0uLIhiH",
        "outputId": "4582cf49-300e-492d-c744-5c681ad8678a"
      },
      "execution_count": 21,
      "outputs": [
        {
          "output_type": "stream",
          "name": "stdout",
          "text": [
            "Found 88582 unique tokens.\n",
            "Shape of data tensor:  (25000, 100)\n",
            "Shape of labels tensor:  (25000,)\n"
          ]
        }
      ]
    },
    {
      "cell_type": "markdown",
      "source": [
        "##Process GloVe file into usable embedding weights matrix\n",
        "Now we parse the glove file to create an index that maps words (as strings) to their vector representations."
      ],
      "metadata": {
        "id": "XWzSTBS9svAa"
      }
    },
    {
      "cell_type": "code",
      "source": [
        "glove_dir = '/content'\n",
        "\n",
        "embeddings_index = {}\n",
        "f = open(os.path.join(glove_dir, 'glove.6B.100d.txt'))\n",
        "for line in f:\n",
        "  #Split string into list\n",
        "  values = line.split()\n",
        "  #isolate word\n",
        "  word = values[0]\n",
        "  #vectorize values\n",
        "  coefs = np.asarray(values[1:], dtype='float32')\n",
        "  #build index\n",
        "  embeddings_index[word] = coefs\n",
        "f.close()\n",
        "\n",
        "print('Found %s word vectors.' % len(embeddings_index))"
      ],
      "metadata": {
        "id": "kbSn1AeOMJoj",
        "colab": {
          "base_uri": "https://localhost:8080/"
        },
        "outputId": "1ea30a1a-826f-47b8-f6fc-abc8df0eeb45"
      },
      "execution_count": 22,
      "outputs": [
        {
          "output_type": "stream",
          "name": "stdout",
          "text": [
            "Found 400000 word vectors.\n"
          ]
        }
      ]
    },
    {
      "cell_type": "markdown",
      "source": [
        "Create embedding weight matrix to be used in embedding layer"
      ],
      "metadata": {
        "id": "R51i30dIuOeg"
      }
    },
    {
      "cell_type": "code",
      "source": [
        "embedding_dim = 100\n",
        "\n",
        "embedding_matrix = np.zeros((max_words, embedding_dim))\n",
        "for word, i in word_index.items():\n",
        "  if i < max_words:\n",
        "    embedding_vector = embeddings_index.get(word)\n",
        "    if embedding_vector is not None:\n",
        "      embedding_matrix[i] = embedding_vector"
      ],
      "metadata": {
        "id": "Q-FJ2OIrEvH4"
      },
      "execution_count": 23,
      "outputs": []
    },
    {
      "cell_type": "markdown",
      "source": [
        "##Define network architecture and compile"
      ],
      "metadata": {
        "id": "3AU_EVgtx-2U"
      }
    },
    {
      "cell_type": "code",
      "source": [
        "#same model architecture\n",
        "model = Sequential()\n",
        "model.add(Embedding(max_words, embedding_dim, input_length=maxlen))\n",
        "model.add(Flatten())\n",
        "model.add(Dense(32, activation='relu'))\n",
        "model.add(Dense(1, activation = 'sigmoid'))\n",
        "model.summary()\n",
        "\n",
        "model.compile(optimizer='rmsprop',\n",
        "              loss='binary_crossentropy',\n",
        "              metrics=['acc'])"
      ],
      "metadata": {
        "colab": {
          "base_uri": "https://localhost:8080/"
        },
        "id": "-AeJ8SMBIS52",
        "outputId": "39a620f8-5d9a-4bdb-b5fa-d836a0fea9e9"
      },
      "execution_count": 24,
      "outputs": [
        {
          "output_type": "stream",
          "name": "stdout",
          "text": [
            "Model: \"sequential_3\"\n",
            "_________________________________________________________________\n",
            " Layer (type)                Output Shape              Param #   \n",
            "=================================================================\n",
            " embedding_3 (Embedding)     (None, 100, 100)          1000000   \n",
            "                                                                 \n",
            " flatten_3 (Flatten)         (None, 10000)             0         \n",
            "                                                                 \n",
            " dense_3 (Dense)             (None, 32)                320032    \n",
            "                                                                 \n",
            " dense_4 (Dense)             (None, 1)                 33        \n",
            "                                                                 \n",
            "=================================================================\n",
            "Total params: 1,320,065\n",
            "Trainable params: 1,320,065\n",
            "Non-trainable params: 0\n",
            "_________________________________________________________________\n"
          ]
        }
      ]
    },
    {
      "cell_type": "markdown",
      "source": [
        "As it stands, our network's embedding layer contains randomly initialized weights.  To use our pretrained embeddings we must set the weights of that layer to the embedding matrix we constructed.  We also set that layer to be untrainable, as we do whenever pretrained weights are used"
      ],
      "metadata": {
        "id": "kWUxhbH7uZoq"
      }
    },
    {
      "cell_type": "code",
      "source": [
        "model.layers[0].set_weights([embedding_matrix])\n",
        "model.layers[0].trainable = False"
      ],
      "metadata": {
        "id": "Y7pZHUPVbJ-S"
      },
      "execution_count": 25,
      "outputs": []
    },
    {
      "cell_type": "markdown",
      "source": [
        "##Train model, Plot Results, Evaluate model"
      ],
      "metadata": {
        "id": "INH1kqzQyM6k"
      }
    },
    {
      "cell_type": "code",
      "source": [
        "history = model.fit(x_train,\n",
        "                    y_train,\n",
        "                    epochs=10,\n",
        "                    batch_size=32,\n",
        "                    validation_data=(x_val, y_val))\n",
        "model.save_weights('pre_trained_glove_model.h5')"
      ],
      "metadata": {
        "colab": {
          "base_uri": "https://localhost:8080/"
        },
        "id": "M4ZAXQKfboBu",
        "outputId": "03aca3df-fa99-428f-ae4d-7cb6855c0c45"
      },
      "execution_count": 26,
      "outputs": [
        {
          "output_type": "stream",
          "name": "stdout",
          "text": [
            "\b\b\b\b\b\b\b\b\b\b\b\b\b\b\b\b\b\b\b\b\b\b\b\b\b\b\b\b\b\b\b\b\b\b\b\b\b\b\b\b\b\b\b\b\b\b\b\b\b\b\b\b\b\b\b\b\b\b\b\b\b\b\b\b\b\b\b\b\b\b\b\b\b\b\b\r7/7 [==============================] - 1s 109ms/step - loss: 0.0233 - acc: 1.0000 - val_loss: 1.0312 - val_acc: 0.5366\n",
            "Epoch 10/10\n",
            "7/7 [==============================] - 1s 110ms/step - loss: 0.0116 - acc: 1.0000 - val_loss: 1.3513 - val_acc: 0.5181\n"
          ]
        }
      ]
    },
    {
      "cell_type": "code",
      "source": [
        "import matplotlib.pyplot as plt\n",
        "\n",
        "def plot_loss_acc(stats):\n",
        "  acc = stats.history['acc']\n",
        "  val_acc = stats.history['val_acc']\n",
        "  loss = stats.history['loss']\n",
        "  val_loss = stats.history['val_loss']\n",
        "\n",
        "  epochs = range(1, len(acc) + 1)\n",
        "\n",
        "  plt.plot(epochs, acc, 'bo', label='Training acc')\n",
        "  plt.plot(epochs, val_acc, 'b', label='Validation acc')\n",
        "  plt.title('Training and Validation accuracy')\n",
        "  plt.legend()\n",
        "\n",
        "  plt.figure()\n",
        "  plt.plot(epochs, loss, 'bo', label='Training loss')\n",
        "  plt.plot(epochs, val_loss, 'b', label='Validation loss')\n",
        "  plt.title('Training and Validation loss')\n",
        "  plt.legend()\n",
        "\n",
        "  plt.show()\n",
        "\n",
        "plot_loss_acc(history)"
      ],
      "metadata": {
        "colab": {
          "base_uri": "https://localhost:8080/",
          "height": 545
        },
        "id": "wEgljoS2cKPF",
        "outputId": "06bc07da-2a4b-4c0d-e089-d5dc38d061ce"
      },
      "execution_count": 27,
      "outputs": [
        {
          "output_type": "display_data",
          "data": {
            "text/plain": [
              "<Figure size 432x288 with 1 Axes>"
            ],
            "image/png": "[encoded data removed]"
          },
          "metadata": {
            "needs_background": "light"
          }
        },
        {
          "output_type": "display_data",
          "data": {
            "text/plain": [
              "<Figure size 432x288 with 1 Axes>"
            ],
            "image/png": "[encoded data removed]"
          },
          "metadata": {
            "needs_background": "light"
          }
        }
      ]
    },
    {
      "cell_type": "markdown",
      "source": [
        "The model quickly overfits, unsurprising for the small amount of data.  For completeness, we evaluate the model on the test set"
      ],
      "metadata": {
        "id": "iGzwQD94v_8i"
      }
    },
    {
      "cell_type": "code",
      "source": [
        "test_dir = os.path.join(imdb_dir, 'test')\n",
        "\n",
        "labels = []\n",
        "texts = []\n",
        "\n",
        "for label_type in ['neg', 'pos']:\n",
        "  dir_name = os.path.join(test_dir, label_type)\n",
        "  for fname in sorted(os.listdir(dir_name)):\n",
        "    if fname[-4:] == '.txt':\n",
        "      f = open(os.path.join(dir_name, fname))\n",
        "      texts.append(f.read())\n",
        "      f.close()\n",
        "      if label_type == 'neg':\n",
        "        labels.append(0)\n",
        "      else:\n",
        "        labels.append(1)\n",
        "\n",
        "sequences = tokenizer.texts_to_sequences(texts)\n",
        "x_test = pad_sequences(sequences, maxlen=maxlen)\n",
        "y_test = np.asarray(labels)"
      ],
      "metadata": {
        "id": "zumT9ClHcqGu"
      },
      "execution_count": 28,
      "outputs": []
    },
    {
      "cell_type": "code",
      "source": [
        "model.load_weights('pre_trained_glove_model.h5')\n",
        "model.evaluate(x_test, y_test)"
      ],
      "metadata": {
        "colab": {
          "base_uri": "https://localhost:8080/"
        },
        "id": "YgNNFru4zff6",
        "outputId": "d32f4c8a-324d-45ca-c1cb-20c1ca0ee361"
      },
      "execution_count": 29,
      "outputs": [
        {
          "output_type": "stream",
          "name": "stdout",
          "text": [
            "782/782 [==============================] - 2s 3ms/step - loss: 1.3510 - acc: 0.5215\n"
          ]
        },
        {
          "output_type": "execute_result",
          "data": {
            "text/plain": [
              "[1.3510477542877197, 0.5214800238609314]"
            ]
          },
          "metadata": {},
          "execution_count": 29
        }
      ]
    },
    {
      "cell_type": "code",
      "source": [],
      "metadata": {
        "id": "tVAPykgQxdI_"
      },
      "execution_count": null,
      "outputs": []
    }
  ]
}